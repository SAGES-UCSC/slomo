{
 "cells": [
  {
   "cell_type": "code",
   "execution_count": 2,
   "metadata": {
    "collapsed": true
   },
   "outputs": [],
   "source": [
    "from numba import jit\n",
    "import numpy as np\n",
    "from scipy import special"
   ]
  },
  {
   "cell_type": "code",
   "execution_count": 10,
   "metadata": {
    "collapsed": false
   },
   "outputs": [],
   "source": [
    "def b_cb(n):\n",
    "    \"\"\"'b' parameter in the Sersic function, from the Ciotti & Bertin (1999) \n",
    "    approximation.\n",
    "    \"\"\"\n",
    "    return - 1. / 3 + 2. * n + 4 / (405. * n) + 46 / (25515. * n**2)\n",
    "\n",
    "def p_ln(n):\n",
    "    \"\"\"'p' parameter in fitting deprojected Sersic function, \n",
    "    from Lima Neto et al. (1999)\n",
    "    \"\"\"\n",
    "    return 1. - 0.6097 / n + 0.05463 / n**2\n",
    "\n",
    "def M_sersic(r, upsilon, I0, Re, n):\n",
    "    \"\"\"Mass associated with a Sersic surface density profile for a constant \n",
    "    mass-to-light ratio upsilon.\n",
    "    \"\"\"\n",
    "    p = p_ln(n)\n",
    "    b = b_cb(n)\n",
    "    a = Re / b**n\n",
    "    rho0 = I0 * special.gamma(2 * n) / (2 * a * special.gamma((3 - p) * n))\n",
    "    x = (r / a)**(1 / n)\n",
    "    factor1 = 4 * np.pi * rho0 * a**3 * n\n",
    "    factor2 = special.gammainc((3 - p) * n, x)\n",
    "    factor3 = special.gamma((3 - p) * n)\n",
    "    L_sersic = factor1 * factor2 * factor3\n",
    "    return upsilon * L_sersic\n",
    "\n",
    "def construct_required(required, replace, kwargs):\n",
    "    call = {}\n",
    "    for param in required:\n",
    "        try:\n",
    "            replace_param = replace[param]\n",
    "        except KeyError as e:\n",
    "            replace_param = param\n",
    "        call[param] = kwargs[replace_param]\n",
    "    return call\n",
    "\n",
    "@jit\n",
    "def construct_required_jit(required, replace, kwargs):\n",
    "    call = {}\n",
    "    for param in required:\n",
    "        try:\n",
    "            replace_param = replace[param]\n",
    "        except KeyError as e:\n",
    "            replace_param = param\n",
    "        call[param] = kwargs[replace_param]\n",
    "    return call"
   ]
  },
  {
   "cell_type": "code",
   "execution_count": 5,
   "metadata": {
    "collapsed": true
   },
   "outputs": [],
   "source": [
    "required = ['I0', 'Re', 'n', 'upsilon']\n",
    "replace = {'I0': 'I0_s', 'Re': 'Re_s', 'n': 'n_s'}\n",
    "kwargs = {'I0_s': 1, 'Re_s': 2, 'n_s': 3, 'upsilon': 4}"
   ]
  },
  {
   "cell_type": "code",
   "execution_count": 8,
   "metadata": {
    "collapsed": false
   },
   "outputs": [
    {
     "data": {
      "text/plain": [
       "{'I0': 1, 'Re': 2, 'n': 3, 'upsilon': 4}"
      ]
     },
     "execution_count": 8,
     "metadata": {},
     "output_type": "execute_result"
    }
   ],
   "source": [
    "call_kwargs = construct_required(required, replace, kwargs)\n",
    "call_kwargs"
   ]
  },
  {
   "cell_type": "code",
   "execution_count": 22,
   "metadata": {
    "collapsed": false
   },
   "outputs": [
    {
     "data": {
      "text/plain": [
       "1.0889201474268038"
      ]
     },
     "execution_count": 22,
     "metadata": {},
     "output_type": "execute_result"
    }
   ],
   "source": [
    "M_sersic(100, **call_kwargs)"
   ]
  },
  {
   "cell_type": "code",
   "execution_count": 17,
   "metadata": {
    "collapsed": false
   },
   "outputs": [
    {
     "name": "stdout",
     "output_type": "stream",
     "text": [
      "[0 1 2] [3 4 5] [6 7 8]\n"
     ]
    }
   ],
   "source": [
    "print(*np.arange(9).reshape(3, 3))"
   ]
  },
  {
   "cell_type": "code",
   "execution_count": 18,
   "metadata": {
    "collapsed": false
   },
   "outputs": [
    {
     "data": {
      "text/plain": [
       "array([[0, 1, 2],\n",
       "       [3, 4, 5],\n",
       "       [6, 7, 8]])"
      ]
     },
     "execution_count": 18,
     "metadata": {},
     "output_type": "execute_result"
    }
   ],
   "source": [
    "np.arange(9).reshape(3, 3)"
   ]
  },
  {
   "cell_type": "code",
   "execution_count": null,
   "metadata": {
    "collapsed": true
   },
   "outputs": [],
   "source": []
  }
 ],
 "metadata": {
  "kernelspec": {
   "display_name": "Python 3",
   "language": "python",
   "name": "python3"
  },
  "language_info": {
   "codemirror_mode": {
    "name": "ipython",
    "version": 3
   },
   "file_extension": ".py",
   "mimetype": "text/x-python",
   "name": "python",
   "nbconvert_exporter": "python",
   "pygments_lexer": "ipython3",
   "version": "3.5.2"
  }
 },
 "nbformat": 4,
 "nbformat_minor": 2
}
